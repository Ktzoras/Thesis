{
  "cells": [
    {
      "cell_type": "code",
      "execution_count": 6,
      "metadata": {},
      "outputs": [
        {
          "name": "stdout",
          "output_type": "stream",
          "text": [
            "Defaulting to user installation because normal site-packages is not writeable\n"
          ]
        },
        {
          "name": "stderr",
          "output_type": "stream",
          "text": [
            "ERROR: Could not find a version that satisfies the requirement google.colab (from versions: none)\n",
            "ERROR: No matching distribution found for google.colab\n"
          ]
        }
      ],
      "source": [
        "!pip install google.colab"
      ]
    },
    {
      "cell_type": "code",
      "execution_count": 1,
      "metadata": {
        "colab": {
          "base_uri": "https://localhost:8080/"
        },
        "id": "myv5JS7Gfs2Y",
        "outputId": "d5b456be-b57a-47a8-8904-732662fe48ea"
      },
      "outputs": [
        {
          "ename": "ModuleNotFoundError",
          "evalue": "No module named 'google'",
          "output_type": "error",
          "traceback": [
            "\u001b[1;31m---------------------------------------------------------------------------\u001b[0m",
            "\u001b[1;31mModuleNotFoundError\u001b[0m                       Traceback (most recent call last)",
            "Cell \u001b[1;32mIn[1], line 1\u001b[0m\n\u001b[1;32m----> 1\u001b[0m \u001b[38;5;28;01mfrom\u001b[39;00m \u001b[38;5;21;01mgoogle\u001b[39;00m\u001b[38;5;21;01m.\u001b[39;00m\u001b[38;5;21;01mcolab\u001b[39;00m \u001b[38;5;28;01mimport\u001b[39;00m drive\n\u001b[0;32m      2\u001b[0m drive\u001b[38;5;241m.\u001b[39mmount(\u001b[38;5;124m'\u001b[39m\u001b[38;5;124m/content/drive\u001b[39m\u001b[38;5;124m'\u001b[39m)\n",
            "\u001b[1;31mModuleNotFoundError\u001b[0m: No module named 'google'"
          ]
        }
      ],
      "source": [
        "from google.colab import drive\n",
        "drive.mount('/content/drive')"
      ]
    },
    {
      "cell_type": "markdown",
      "metadata": {
        "id": "s5riqR4nbkuS"
      },
      "source": [
        "# A. Scraping"
      ]
    },
    {
      "cell_type": "code",
      "execution_count": 1,
      "metadata": {
        "id": "KegmeVAEf4lk"
      },
      "outputs": [],
      "source": [
        "import pandas as pd\n",
        "import numpy as np\n",
        "import json"
      ]
    },
    {
      "cell_type": "code",
      "execution_count": 2,
      "metadata": {
        "colab": {
          "base_uri": "https://localhost:8080/"
        },
        "id": "q5EpCzwCtxGe",
        "outputId": "c90a28b4-09d6-493b-c300-f3684628982a"
      },
      "outputs": [
        {
          "name": "stdout",
          "output_type": "stream",
          "text": [
            "Collecting selenium\n",
            "  Using cached selenium-4.31.0-py3-none-any.whl.metadata (7.5 kB)\n",
            "Requirement already satisfied: urllib3<3,>=1.26 in c:\\users\\tzora\\appdata\\local\\programs\\python\\python312\\lib\\site-packages (from urllib3[socks]<3,>=1.26->selenium) (2.2.3)\n",
            "Collecting trio~=0.17 (from selenium)\n",
            "  Using cached trio-0.30.0-py3-none-any.whl.metadata (8.5 kB)\n",
            "Collecting trio-websocket~=0.9 (from selenium)\n",
            "  Using cached trio_websocket-0.12.2-py3-none-any.whl.metadata (5.1 kB)\n",
            "Requirement already satisfied: certifi>=2021.10.8 in c:\\users\\tzora\\appdata\\local\\programs\\python\\python312\\lib\\site-packages (from selenium) (2024.8.30)\n",
            "Requirement already satisfied: typing_extensions~=4.9 in c:\\users\\tzora\\appdata\\local\\programs\\python\\python312\\lib\\site-packages (from selenium) (4.12.2)\n",
            "Collecting websocket-client~=1.8 (from selenium)\n",
            "  Using cached websocket_client-1.8.0-py3-none-any.whl.metadata (8.0 kB)\n",
            "Collecting attrs>=23.2.0 (from trio~=0.17->selenium)\n",
            "  Using cached attrs-25.3.0-py3-none-any.whl.metadata (10 kB)\n",
            "Collecting sortedcontainers (from trio~=0.17->selenium)\n",
            "  Using cached sortedcontainers-2.4.0-py2.py3-none-any.whl.metadata (10 kB)\n",
            "Requirement already satisfied: idna in c:\\users\\tzora\\appdata\\local\\programs\\python\\python312\\lib\\site-packages (from trio~=0.17->selenium) (3.10)\n",
            "Collecting outcome (from trio~=0.17->selenium)\n",
            "  Using cached outcome-1.3.0.post0-py2.py3-none-any.whl.metadata (2.6 kB)\n",
            "Collecting sniffio>=1.3.0 (from trio~=0.17->selenium)\n",
            "  Using cached sniffio-1.3.1-py3-none-any.whl.metadata (3.9 kB)\n",
            "Collecting cffi>=1.14 (from trio~=0.17->selenium)\n",
            "  Downloading cffi-1.17.1-cp312-cp312-win_amd64.whl.metadata (1.6 kB)\n",
            "Collecting wsproto>=0.14 (from trio-websocket~=0.9->selenium)\n",
            "  Using cached wsproto-1.2.0-py3-none-any.whl.metadata (5.6 kB)\n",
            "Collecting pysocks!=1.5.7,<2.0,>=1.5.6 (from urllib3[socks]<3,>=1.26->selenium)\n",
            "  Using cached PySocks-1.7.1-py3-none-any.whl.metadata (13 kB)\n",
            "Collecting pycparser (from cffi>=1.14->trio~=0.17->selenium)\n",
            "  Using cached pycparser-2.22-py3-none-any.whl.metadata (943 bytes)\n",
            "Collecting h11<1,>=0.9.0 (from wsproto>=0.14->trio-websocket~=0.9->selenium)\n",
            "  Using cached h11-0.14.0-py3-none-any.whl.metadata (8.2 kB)\n",
            "Using cached selenium-4.31.0-py3-none-any.whl (9.4 MB)\n",
            "Using cached trio-0.30.0-py3-none-any.whl (499 kB)\n",
            "Using cached trio_websocket-0.12.2-py3-none-any.whl (21 kB)\n",
            "Using cached websocket_client-1.8.0-py3-none-any.whl (58 kB)\n",
            "Using cached attrs-25.3.0-py3-none-any.whl (63 kB)\n",
            "Downloading cffi-1.17.1-cp312-cp312-win_amd64.whl (181 kB)\n",
            "   ---------------------------------------- 0.0/182.0 kB ? eta -:--:--\n",
            "   ------ --------------------------------- 30.7/182.0 kB 1.3 MB/s eta 0:00:01\n",
            "   -------------------- ------------------- 92.2/182.0 kB 1.3 MB/s eta 0:00:01\n",
            "   -------------------------------------- - 174.1/182.0 kB 1.3 MB/s eta 0:00:01\n",
            "   ---------------------------------------- 182.0/182.0 kB 1.4 MB/s eta 0:00:00\n",
            "Using cached outcome-1.3.0.post0-py2.py3-none-any.whl (10 kB)\n",
            "Using cached PySocks-1.7.1-py3-none-any.whl (16 kB)\n",
            "Using cached sniffio-1.3.1-py3-none-any.whl (10 kB)\n",
            "Using cached wsproto-1.2.0-py3-none-any.whl (24 kB)\n",
            "Using cached sortedcontainers-2.4.0-py2.py3-none-any.whl (29 kB)\n",
            "Using cached h11-0.14.0-py3-none-any.whl (58 kB)\n",
            "Using cached pycparser-2.22-py3-none-any.whl (117 kB)\n",
            "Installing collected packages: sortedcontainers, websocket-client, sniffio, pysocks, pycparser, h11, attrs, wsproto, outcome, cffi, trio, trio-websocket, selenium\n",
            "Successfully installed attrs-25.3.0 cffi-1.17.1 h11-0.14.0 outcome-1.3.0.post0 pycparser-2.22 pysocks-1.7.1 selenium-4.31.0 sniffio-1.3.1 sortedcontainers-2.4.0 trio-0.30.0 trio-websocket-0.12.2 websocket-client-1.8.0 wsproto-1.2.0\n",
            "Note: you may need to restart the kernel to use updated packages.\n"
          ]
        }
      ],
      "source": [
        "pip install selenium"
      ]
    },
    {
      "cell_type": "code",
      "execution_count": 2,
      "metadata": {
        "id": "-AK3_X7-ttkU"
      },
      "outputs": [],
      "source": [
        "from selenium import webdriver\n",
        "from selenium.webdriver.common.keys import Keys\n",
        "from selenium.webdriver.common.by import By\n",
        "from selenium.webdriver import FirefoxOptions\n",
        "import numpy as np\n",
        "\n",
        "from bs4 import BeautifulSoup\n",
        "\n",
        "import sys"
      ]
    },
    {
      "cell_type": "code",
      "execution_count": 3,
      "metadata": {
        "id": "xNCi0uzXo6oX"
      },
      "outputs": [],
      "source": [
        "opts = FirefoxOptions()\n",
        "opts.add_argument(\"--headless\")\n",
        "driver = webdriver.Firefox(options=opts)\n",
        "driver2 = webdriver.Firefox(options=opts)"
      ]
    },
    {
      "cell_type": "code",
      "execution_count": 4,
      "metadata": {
        "colab": {
          "background_save": true,
          "base_uri": "https://localhost:8080/"
        },
        "id": "s7GZSsDbOu8w",
        "outputId": "2b9f6b6f-7166-4617-b549-3dae6d068dad"
      },
      "outputs": [
        {
          "name": "stdout",
          "output_type": "stream",
          "text": [
            "2187/2621\n",
            "2188/2621\n",
            "2189/2621\n",
            "2190/2621\n",
            "2191/2621\n",
            "2192/2621\n",
            "2193/2621\n",
            "2194/2621\n",
            "2195/2621\n",
            "2196/2621\n",
            "2197/2621\n",
            "2198/2621\n",
            "2199/2621\n",
            "2200/2621\n",
            "2201/2621\n",
            "2202/2621\n",
            "2203/2621\n",
            "2204/2621\n",
            "2205/2621\n",
            "2206/2621\n",
            "waiting..\n",
            "waiting..\n",
            "2207/2621\n",
            "2208/2621\n",
            "2209/2621\n",
            "2210/2621\n",
            "2211/2621\n",
            "2212/2621\n",
            "2213/2621\n",
            "2214/2621\n",
            "2215/2621\n",
            "2216/2621\n",
            "2217/2621\n",
            "2218/2621\n",
            "2219/2621\n",
            "2220/2621\n",
            "2221/2621\n",
            "2222/2621\n",
            "2223/2621\n",
            "2224/2621\n",
            "2225/2621\n",
            "2226/2621\n",
            "2227/2621\n",
            "2228/2621\n",
            "2229/2621\n",
            "2230/2621\n",
            "2231/2621\n",
            "2232/2621\n",
            "2233/2621\n",
            "2234/2621\n",
            "2235/2621\n",
            "2236/2621\n",
            "2237/2621\n",
            "2238/2621\n",
            "2239/2621\n",
            "2240/2621\n",
            "2241/2621\n",
            "2242/2621\n",
            "2243/2621\n",
            "2244/2621\n",
            "2245/2621\n",
            "2246/2621\n",
            "2247/2621\n",
            "2248/2621\n",
            "2249/2621\n",
            "2250/2621\n",
            "2251/2621\n",
            "2252/2621\n",
            "2253/2621\n",
            "2254/2621\n",
            "2255/2621\n",
            "2256/2621\n",
            "2257/2621\n",
            "2258/2621\n",
            "2259/2621\n",
            "2260/2621\n",
            "2261/2621\n",
            "2262/2621\n",
            "2263/2621\n",
            "2264/2621\n",
            "2265/2621\n",
            "2266/2621\n",
            "2267/2621\n",
            "2268/2621\n",
            "2269/2621\n",
            "2270/2621\n",
            "2271/2621\n",
            "2272/2621\n",
            "2273/2621\n",
            "2274/2621\n",
            "2275/2621\n",
            "2276/2621\n",
            "2277/2621\n",
            "2278/2621\n",
            "2279/2621\n",
            "2280/2621\n",
            "2281/2621\n",
            "2282/2621\n",
            "2283/2621\n",
            "2284/2621\n",
            "2285/2621\n",
            "2286/2621\n",
            "2287/2621\n",
            "2288/2621\n",
            "2289/2621\n",
            "2290/2621\n",
            "2291/2621\n",
            "2292/2621\n",
            "2293/2621\n",
            "2294/2621\n",
            "2295/2621\n",
            "2296/2621\n",
            "2297/2621\n",
            "2298/2621\n",
            "2299/2621\n",
            "2300/2621\n",
            "2301/2621\n",
            "2302/2621\n",
            "2303/2621\n",
            "2304/2621\n",
            "2305/2621\n",
            "2306/2621\n",
            "2307/2621\n",
            "2308/2621\n",
            "2309/2621\n",
            "2310/2621\n",
            "2311/2621\n",
            "2312/2621\n",
            "2313/2621\n",
            "2314/2621\n",
            "2315/2621\n",
            "2316/2621\n",
            "2317/2621\n",
            "2318/2621\n",
            "2319/2621\n",
            "2320/2621\n",
            "2321/2621\n",
            "2322/2621\n",
            "2323/2621\n",
            "2324/2621\n",
            "2325/2621\n",
            "2326/2621\n",
            "2327/2621\n",
            "2328/2621\n",
            "2329/2621\n",
            "2330/2621\n",
            "2331/2621\n",
            "2332/2621\n",
            "2333/2621\n",
            "2334/2621\n",
            "2335/2621\n",
            "2336/2621\n",
            "2337/2621\n",
            "2338/2621\n",
            "2339/2621\n",
            "2340/2621\n",
            "2341/2621\n",
            "2342/2621\n",
            "2343/2621\n",
            "2344/2621\n",
            "2345/2621\n",
            "2346/2621\n",
            "2347/2621\n",
            "2348/2621\n",
            "2349/2621\n",
            "2350/2621\n",
            "2351/2621\n",
            "2352/2621\n",
            "2353/2621\n",
            "2354/2621\n",
            "2355/2621\n",
            "2356/2621\n",
            "2357/2621\n",
            "2358/2621\n",
            "2359/2621\n",
            "2360/2621\n",
            "2361/2621\n",
            "2362/2621\n",
            "2363/2621\n",
            "2364/2621\n",
            "2365/2621\n",
            "2366/2621\n",
            "2367/2621\n",
            "2368/2621\n",
            "2369/2621\n",
            "2370/2621\n",
            "2371/2621\n",
            "2372/2621\n",
            "2373/2621\n",
            "2374/2621\n",
            "2375/2621\n",
            "2376/2621\n",
            "2377/2621\n",
            "2378/2621\n",
            "2379/2621\n",
            "2380/2621\n",
            "2381/2621\n",
            "2382/2621\n",
            "2383/2621\n",
            "2384/2621\n",
            "2385/2621\n",
            "2386/2621\n",
            "2387/2621\n",
            "2388/2621\n",
            "2389/2621\n",
            "2390/2621\n",
            "2391/2621\n",
            "2392/2621\n",
            "2393/2621\n",
            "2394/2621\n",
            "2395/2621\n",
            "2396/2621\n",
            "2397/2621\n",
            "2398/2621\n",
            "2399/2621\n",
            "2400/2621\n",
            "2401/2621\n",
            "2402/2621\n",
            "2403/2621\n",
            "2404/2621\n",
            "2405/2621\n",
            "2406/2621\n",
            "2407/2621\n",
            "2408/2621\n",
            "2409/2621\n",
            "2410/2621\n",
            "2411/2621\n",
            "2412/2621\n",
            "2413/2621\n",
            "2414/2621\n",
            "2415/2621\n",
            "2416/2621\n",
            "2417/2621\n",
            "2418/2621\n",
            "2419/2621\n",
            "2420/2621\n",
            "2421/2621\n",
            "2422/2621\n",
            "2423/2621\n",
            "2424/2621\n",
            "2425/2621\n",
            "2426/2621\n",
            "2427/2621\n",
            "2428/2621\n",
            "2429/2621\n",
            "2430/2621\n",
            "2431/2621\n",
            "2432/2621\n",
            "2433/2621\n",
            "2434/2621\n",
            "2435/2621\n",
            "2436/2621\n",
            "2437/2621\n",
            "2438/2621\n",
            "2439/2621\n",
            "2440/2621\n",
            "2441/2621\n",
            "2442/2621\n",
            "2443/2621\n",
            "2444/2621\n",
            "2445/2621\n",
            "2446/2621\n",
            "2447/2621\n",
            "2448/2621\n",
            "2449/2621\n",
            "2450/2621\n",
            "2451/2621\n",
            "2452/2621\n",
            "2453/2621\n",
            "2454/2621\n",
            "2455/2621\n",
            "2456/2621\n",
            "2457/2621\n",
            "2458/2621\n",
            "2459/2621\n",
            "2460/2621\n",
            "2461/2621\n",
            "2462/2621\n",
            "2463/2621\n",
            "2464/2621\n",
            "2465/2621\n",
            "2466/2621\n",
            "2467/2621\n",
            "2468/2621\n",
            "2469/2621\n",
            "2470/2621\n",
            "2471/2621\n",
            "2472/2621\n",
            "2473/2621\n",
            "2474/2621\n",
            "2475/2621\n",
            "2476/2621\n",
            "2477/2621\n",
            "2478/2621\n",
            "2479/2621\n",
            "2480/2621\n",
            "2481/2621\n",
            "2482/2621\n",
            "2483/2621\n",
            "2484/2621\n",
            "2485/2621\n",
            "2486/2621\n",
            "2487/2621\n",
            "2488/2621\n",
            "2489/2621\n",
            "2490/2621\n",
            "2491/2621\n",
            "2492/2621\n",
            "2493/2621\n",
            "2494/2621\n",
            "2495/2621\n",
            "2496/2621\n",
            "2497/2621\n",
            "2498/2621\n",
            "2499/2621\n",
            "2500/2621\n",
            "2501/2621\n",
            "2502/2621\n",
            "2503/2621\n",
            "2504/2621\n",
            "2505/2621\n",
            "2506/2621\n",
            "2507/2621\n",
            "2508/2621\n",
            "2509/2621\n",
            "2510/2621\n",
            "2511/2621\n",
            "2512/2621\n",
            "2513/2621\n",
            "2514/2621\n",
            "2515/2621\n",
            "2516/2621\n",
            "2517/2621\n",
            "2518/2621\n",
            "2519/2621\n",
            "2520/2621\n",
            "2521/2621\n",
            "2522/2621\n",
            "2523/2621\n",
            "2524/2621\n",
            "2525/2621\n",
            "2526/2621\n",
            "2527/2621\n",
            "2528/2621\n",
            "2529/2621\n",
            "2530/2621\n",
            "2531/2621\n",
            "2532/2621\n",
            "2533/2621\n",
            "2534/2621\n",
            "2535/2621\n",
            "2536/2621\n",
            "2537/2621\n",
            "2538/2621\n",
            "2539/2621\n",
            "2540/2621\n",
            "2541/2621\n",
            "2542/2621\n",
            "2543/2621\n",
            "2544/2621\n",
            "2545/2621\n",
            "2546/2621\n",
            "2547/2621\n",
            "2548/2621\n",
            "2549/2621\n",
            "2550/2621\n",
            "2551/2621\n",
            "2552/2621\n",
            "2553/2621\n",
            "2554/2621\n",
            "2555/2621\n",
            "2556/2621\n",
            "2557/2621\n",
            "2558/2621\n",
            "2559/2621\n",
            "2560/2621\n",
            "2561/2621\n",
            "2562/2621\n",
            "2563/2621\n",
            "2564/2621\n",
            "2565/2621\n",
            "2566/2621\n",
            "2567/2621\n",
            "2568/2621\n",
            "2569/2621\n",
            "2570/2621\n",
            "2571/2621\n",
            "2572/2621\n",
            "2573/2621\n",
            "2574/2621\n",
            "2575/2621\n",
            "2576/2621\n",
            "2577/2621\n",
            "2578/2621\n",
            "2579/2621\n",
            "2580/2621\n",
            "2581/2621\n",
            "2582/2621\n",
            "2583/2621\n",
            "2584/2621\n",
            "2585/2621\n",
            "2586/2621\n",
            "2587/2621\n",
            "2588/2621\n",
            "2589/2621\n",
            "2590/2621\n",
            "2591/2621\n",
            "2592/2621\n",
            "2593/2621\n",
            "2594/2621\n",
            "2595/2621\n",
            "2596/2621\n",
            "2597/2621\n",
            "2598/2621\n",
            "2599/2621\n",
            "2600/2621\n",
            "2601/2621\n",
            "2602/2621\n",
            "2603/2621\n",
            "2604/2621\n",
            "2605/2621\n",
            "2606/2621\n",
            "2607/2621\n",
            "2608/2621\n",
            "2609/2621\n",
            "2610/2621\n",
            "2611/2621\n",
            "2612/2621\n",
            "2613/2621\n",
            "2614/2621\n",
            "2615/2621\n",
            "2616/2621\n",
            "2617/2621\n",
            "2618/2621\n",
            "2619/2621\n",
            "2620/2621\n",
            "2621/2621\n",
            "2622/2621\n",
            "2623/2621\n",
            "2624/2621\n",
            "2625/2621\n",
            "2626/2621\n",
            "2627/2621\n",
            "2628/2621\n",
            "2629/2621\n",
            "2630/2621\n",
            "2631/2621\n",
            "2632/2621\n",
            "2633/2621\n",
            "2634/2621\n",
            "2635/2621\n",
            "2636/2621\n",
            "2637/2621\n",
            "2638/2621\n",
            "2639/2621\n",
            "2640/2621\n",
            "2641/2621\n",
            "2642/2621\n",
            "2643/2621\n",
            "2644/2621\n",
            "2645/2621\n",
            "2646/2621\n",
            "2647/2621\n",
            "2648/2621\n",
            "2649/2621\n",
            "2650/2621\n",
            "2651/2621\n",
            "2652/2621\n",
            "2653/2621\n",
            "2654/2621\n",
            "2655/2621\n",
            "2656/2621\n",
            "2657/2621\n",
            "2658/2621\n",
            "2659/2621\n",
            "2660/2621\n",
            "2661/2621\n",
            "2662/2621\n",
            "2663/2621\n"
          ]
        }
      ],
      "source": [
        "articles = pd.DataFrame({})\n",
        "\n",
        "\n",
        "for i in range(2187, 2664):\n",
        "  print(f\"{i}/2621\")\n",
        "  driver.get(f\"https://www.hellenicshippingnews.com/category/shipping-news/international-shipping-news/page/{i}/\")\n",
        "  driver.implicitly_wait(0.9)\n",
        "  html = driver.page_source\n",
        "  soup = BeautifulSoup(html)\n",
        "\n",
        "  for link in soup.find_all('article'):\n",
        "    try:\n",
        "      driver.implicitly_wait(np.random.random()*3 + 0.5)\n",
        "      driver2.get(link.find('a').get('href'))\n",
        "      html2 = driver2.page_source\n",
        "      soup2 = BeautifulSoup(html2)\n",
        "\n",
        "      date = str(soup2.find_all(\"article\")[0].find_all(\"span\", \"updated\")[0].get_text())\n",
        "      title = soup2.article.span.get_text()\n",
        "      content = []\n",
        "      for text_in_article in soup2.find_all('article')[0].find_all('div', 'entry'):\n",
        "        content.append(text_in_article.get_text().replace(\"\\n\", \"\"))\n",
        "      content = ''.join(content)\n",
        "\n",
        "      articles = pd.concat([articles, pd.DataFrame([{'link': link.find('a').get('href'), 'date': date, 'title': title, 'content': content}])], ignore_index=True)\n",
        "      with open(r'articles.txt', 'a') as f:\n",
        "        f.write(json.dumps({'link': link.find('a').get('href'), 'date': date, 'title': title, 'content': content}))\n",
        "    except:\n",
        "      print('waiting..')\n",
        "      driver.implicitly_wait(25)"
      ]
    },
    {
      "cell_type": "code",
      "execution_count": null,
      "metadata": {
        "id": "7upBgMoM4qYD"
      },
      "outputs": [],
      "source": [
        "articles.update(articles.select_dtypes('datetime').apply(lambda x: x.dt.strftime('%Y-%m-%d')))"
      ]
    },
    {
      "cell_type": "code",
      "execution_count": null,
      "metadata": {
        "id": "7LjpGBJOYCPj"
      },
      "outputs": [],
      "source": [
        "articles.to_json('drive/MyDrive/articles_file_test4.json', orient = 'split', index = 'true')"
      ]
    },
    {
      "cell_type": "code",
      "execution_count": null,
      "metadata": {
        "colab": {
          "base_uri": "https://localhost:8080/"
        },
        "id": "mKdHQCCl3VaI",
        "outputId": "c30880e6-5b9e-4908-9bd7-b25bc22bcd7c"
      },
      "outputs": [
        {
          "data": {
            "text/plain": [
              "str"
            ]
          },
          "execution_count": 91,
          "metadata": {},
          "output_type": "execute_result"
        }
      ],
      "source": [
        "type(articles.date.iloc[0])"
      ]
    },
    {
      "cell_type": "code",
      "execution_count": null,
      "metadata": {
        "id": "5pcHyzX4Ou6V"
      },
      "outputs": [],
      "source": [
        "articles_copy = articles.copy()\n",
        "articles_copy.date = articles.date.apply(lambda x: str(x))"
      ]
    },
    {
      "cell_type": "code",
      "execution_count": null,
      "metadata": {
        "colab": {
          "base_uri": "https://localhost:8080/",
          "height": 206
        },
        "id": "2aMjxA4eMVBw",
        "outputId": "60ca3281-622b-46c1-fb61-c0181538a5cb"
      },
      "outputs": [
        {
          "data": {
            "application/vnd.google.colaboratory.intrinsic+json": {
              "summary": "{\n  \"name\": \"articles_copy\",\n  \"rows\": 3852,\n  \"fields\": [\n    {\n      \"column\": \"link\",\n      \"properties\": {\n        \"dtype\": \"string\",\n        \"num_unique_values\": 3845,\n        \"samples\": [\n          \"https://www.hellenicshippingnews.com/baltic-index-gains-as-capesize-rates-rebound/\",\n          \"https://www.hellenicshippingnews.com/s-korea-us-agree-to-establish-busan-tacoma-cargo-shipping-route-at-cop27/\",\n          \"https://www.hellenicshippingnews.com/maersk-the-opportunity-of-europes-emerging-economies/\"\n        ],\n        \"semantic_type\": \"\",\n        \"description\": \"\"\n      }\n    },\n    {\n      \"column\": \"date\",\n      \"properties\": {\n        \"dtype\": \"category\",\n        \"num_unique_values\": 190,\n        \"samples\": [\n          \"30/11/2022\",\n          \"24/11/2022\",\n          \"07/02/2023\"\n        ],\n        \"semantic_type\": \"\",\n        \"description\": \"\"\n      }\n    },\n    {\n      \"column\": \"title\",\n      \"properties\": {\n        \"dtype\": \"string\",\n        \"num_unique_values\": 3726,\n        \"samples\": [\n          \"Hempel receives B rating from CDP for good environmental management\",\n          \"CLdN to start new Teesport service from Zeebrugge / Rotterdam and significantly expand capacity to Purfleet\",\n          \"Japan\\u2019s 1st LNG-fueled ferry, Sunflower Kurenai, Enters Service- Reducing Environmental Impact, Realizing Modal Shift and Offering \\u2018Casual Cruise\\u2019\"\n        ],\n        \"semantic_type\": \"\",\n        \"description\": \"\"\n      }\n    },\n    {\n      \"column\": \"content\",\n      \"properties\": {\n        \"dtype\": \"string\",\n        \"num_unique_values\": 3839,\n        \"samples\": [\n          \"Mitsui O.S.K. Lines, Ltd. made a decision by the Board of Directors meeting held today to accept to acquire the third-party allotment of new shares of MODEC, Inc. (MODEC; President and CEO: Takeshi Kanamori; Headquarters: Chuo-ku, Tokyo, Note 1) together with MITSUI & CO., LTD. (MITSUI & CO.; President and CEO: Kenichi Hori; Headquarters: Chiyoda-ku, Tokyo) and to conclude a business alliance agreement with MODEC. After the underwriting, MOL\\u2019s stake in MODEC will be 14.86% and will be the second largest shareholder, same share as that of MITSUI & CO.MODEC is a leading provider of solutions to the floating offshore oil & gas market such as FPSO. These units can handle oil & gas production in ultra deep water and in harsh environments. MODEC has an exceptionally strong track record to prove its excellency. MOL has been focusing on the enormous potential of marine resources and energy which will contribute to a stable supply of energy, and has been engaged in the FPSO business, in cooperation with partner companies such as MODEC and MITSUI & CO.Combining MODEC\\u2019s world-leading technology in marine condition analysis and designing floating structures with MOL\\u2019s long-standing expertise in marine solutions, we aim to open new horizons together in our efforts toward decarbonization era. MOL is committed to expanding its non-shipping business, including offshore businesses, as set out in the \\u201cBLUE ACTION 2035\\u201d corporate management plan, and this investment and business alliance will contribute to this strategy.FPSO Cidade de Campos dos Goytacazes MV29 (Photo courtesy of MODEC, Inc.)Through the business alliance, MOL will further strengthen its relationship with MODEC as strategic partners, and will mutually leverage its management resources to strengthen the competitiveness of the offshore business, and sustain people\\u2019s lives and ensure a prosperous future as a global social infrastructure company with its origins in the sea.[Details of business alliance]\\u2022 Provision of know-how on design, construction, leasing, operation, etc. of FPSO, etc. by MODEC\\u2022 MOL\\u2019s global network and expertise in business development, financing, and regional expertise\\u2022 MOL\\u2019s cooperation in strengthening MODEC\\u2019s business operation systems\\u2022 MOL\\u2019s human resource support to MODECMOL Group 5 Sustainability IssuesMOL Group will contribute to realizing a sustainable society by promoting responses to sustainability issues, which are identified as social issues that must be addressed as priorities through its business.We anticipate this initiative to contribute especially to the realization of \\u201cSafety & Value -Provide added value through safe transportation and our social infrastructure business-\\u201c, \\u201cEnvironment -Conservation for Marine and global environment-\\u201d and \\u201cInnovation -Innovation for development in marine technology-\\u201c.Source: Mitsui O.S.K.Lines\",\n          \"Ocean UpdateChinese New Year is one of the most important dates on the logistics calendar, as manufacturing and export operations in China grind to a halt and have a significant impact on global supply chains.As such, businesses need to ensure cargo is out of the Far East on time to reach consumers in Europe. In order to meet this demand during the peak period over the next couple of months, Maersk is positioning the right amount of ocean capacity to carry volumes, as well sufficient empty container space to provide customers with the necessary equipment.Chinese New Year falls earlier in 2023 than previous years (starting on 22nd January), so we encourage customers to begin planning cargo flows before the start of the European holiday season. Organising your inventory to overcome delays and having alternative options in place will also contribute to easing the stress on your supply chain.As the market continues to normalise and the economic situation remains uncertain, we are expecting peak volumes from Far East Asia into Europe to stay below the level of the previous years \\u2013 as similarly observed during the 2022 Golden Week.Key Ports UpdateThe situation across European hubs and main gateway locations continues to recover after a turbulent 2022. The terminals remain resilient and the overall operation of ports, vessel waiting times and port productivity continue to improve across the board.Our teams are monitoring the situation and working on improving schedule reliability to keep our customers\\u2019 supply chains moving. The focus remains on decreasing the number of longstanding containers, addressing instances of equipment shortages and ongoing backhaul coverage from Golden Week. To help maintain terminal operations at a feasible level, we kindly request you to please continue picking up full import containers or requesting dispatch as swiftly as possible after discharge. The market has been under tremendous normalisation modulation, with Asia-Europe being one of the trades with frequent capacity adjustments following market demand since Golden Week. We expect this trend to continue throughout Q4.As a consequence of inflationary pressure across the region, strike action continues to create disruptions across European ports, most recently at Port of Antwerp on 9 November. Read more on the advisory page. At Port of Liverpool, strikes recently ended but more action is possible later this month. Maersk teams continue to monitor the situation and will update the advisory page as more information becomes available.The sustainability of supply chains is always at the forefront of our mitigation planning. Along with the blanking program, strikes and terminal congestions, Maersk has been striving to offering different solutions via alternative routes, alternative terminals, agile cargo delivery, or off-dock solutions to minimise the impact to our customers\\u2019 supply chains.The end of the year typically brings challenges of its own in terms of weather conditions \\u2013 seasonal storms in the north of Europe, fog in the south, and wind and rough sea on the west could affect operations and vessels. Maersk teams will keep a close eye on weather forecasts and keep our customers informed of any impact the weather conditions might have on cargo.Air Freight UpdateWithin air freight, we are continuing to see high levels of inflation have an impact on demand, as lower sales and increased inventory are causing issues for businesses across Europe. As such, we have not yet seen signs of a significant peak season in Q4, although air will continue to be a frequently used option for companies moving last-minute stock ahead of the busy Christmas period.AirEurope outbound continues to stabilise across a number of sectors, although inbound European cargo decreased by 10% in the month of October compared to 2021.Elsewhere, capacity reductions between Europe and Asia due to sanctions against Russia are leading to significant re-routes of Asia-Europe flows via the Middle East \\u2013 impacted further by a volatile jet fuel market that continues to affect rates.Staff shortages in airports mean backlogs continue to pose issues, and although a more reliable ocean network has reduced the demand for air freight slightly, we expect the pressure to remain prominent in the coming weeks.Maersk Air Freight will continue use its own controlled network to keep supply chains moving quickly and reliably when needed.Inland UpdateInland transportation continues to be the subject of pressure, with newly announced rail strike action in Europe causing disruption to services across the region. Port strikes on the continent are also having an impact on rail services, with recent action in Antwerp and Liverpool contributing to congestion on the network.Although ocean freight reliability is improving to alleviate some of the pressure, the truck driver shortage and fuel price crisis are continuing to stretch the trucking industry. While Maersk is striving to improve the conditions for truck drivers in Europe, forecasts predict that the driver shortage will continue its negative trajectory heading into 2023.Our teams will keep a close eye on the situation and are ready to procure additional landside transportation to combat disruption as necessary.Also adding resilience to supply chains in Europe will be the development of the Cross Border Rail solution. Maersk is looking to expand the reach of the network and will focus on sustainable long-haul products for customers in the near-future.E-Delivery UpdateAlthough consumer confidence index is recovering slightly from September 2022 levels, uncertainty is still strong. Consumers are also rethinking their spending behaviours both due to cost pressure and sustainability reasons. As energy and food spending increases, two-thirds of consumers believe they will have less money to spend on Christmas this year compared with 2021 (Deloitte). It is interesting to note that 11% plan to purchase second hand or through reselling platforms.With this in mind, some retailers are backing off from Black Friday extreme discounts and asking that consumers be conscious of their consumption, while others are looking for opportunities to improve their margin and are introducing charges for the returns of online purchases.E-commerceNext to focusing on improving margins, customers are also putting emphasis on maintaining a good consumer experience and being resilient in the face of unexpected circumstances. Employees of Royal Mail in the UK announced a strike action during Black Friday and Cyber Monday, though negotiations between the company and the union remain ongoing. Using a multi-carrier solution, such as the Maersk E-Delivery, can be a solution to sudden supply chain disruptions like this.On a more positive note, Salesforce shopping index tracker showed that despite GMV (Gross Merchandise Value) having a -2% year-on-year growth globally, Spain and Eastern Europe continued their positive growth trends in Q3 2022 \\u2013 at +2% and +6% respectively. This shows that even in the current market, there is opportunity for growth.Maersk E-Delivery is keeping a close eye on the ever-changing developments across Europe and planning ahead where necessary to ensure lead times between 2-4 days for your cross-border deliveries. Head to the E-Delivery portal here.Customs UpdateSupply chain disruption and global uncertainties continue to affect our customers, making it necessary to re-assess logistics operations and find factors that increase predictability in the battle against potential future challenges.Having an integrated approach to global customs will allow you to make informed decisions, leading to a new level of supply chain resilience. Ultimately, we are seeing customs strategies enable new market opportunities and re-imagine supply chain models to make businesses more resilient in the face of adversity.In our virtual event on 22nd November, leading experts will share deeper insights on this and how to make customs a positive game-changer \\u2013 turning customs handling into a strategic advantage.Source: Maersk\",\n          \"ABB is pleased to announce the release of the 2022 edition of Generations, presenting the business perspectives, ambitions and success stories of a diverse group of industry thought leaders and pioneers alongside in-depth technical insight from ABB\\u2019s in-house experts.With \\u2018Harnessing the power of change\\u2019 as its theme, this year\\u2019s Generations turns the spotlight on the innovators and experts challenging convention to deliver benefits for commerce, society and the planet. It also highlights ABB\\u2019s commitment to making the maritime industry safer, smarter and more sustainable by providing innovative electric, automated and digital solutions and promoting social progress.Generations 2022 \\u2013 Harnessing the power of changeReaders gain insight into the measures and solutions targeting to minimize the impact of underwater radiated noise \\u2013 a growing concern for shipowners worldwide \\u2013 and learn how ports and transport hubs can safeguard the electric grids that serve them. Meanwhile, an Italian ferry operator describes the transition of an iconic ferry from diesel to hybrid-electric propulsion, and a Norwegian shipbuilder and designer introduces a potential \\u2018silver-bullet\\u2019 solution for truly sustainable shipping.Generations 2022 also provides technical details from ABB\\u2019s research into environmentally friendly maritime solutions, including a fusion-powered container vessel concept, a fuel cell-fed hybrid power and propulsion system, vessel power trains based on hybrid batteries and fuel cells, and a hydrogen-based shore power system.Source: ABB\"\n        ],\n        \"semantic_type\": \"\",\n        \"description\": \"\"\n      }\n    }\n  ]\n}",
              "type": "dataframe",
              "variable_name": "articles_copy"
            },
            "text/html": [
              "\n",
              "  <div id=\"df-19fbf45d-6492-435d-801c-4e5dd89bba30\" class=\"colab-df-container\">\n",
              "    <div>\n",
              "<style scoped>\n",
              "    .dataframe tbody tr th:only-of-type {\n",
              "        vertical-align: middle;\n",
              "    }\n",
              "\n",
              "    .dataframe tbody tr th {\n",
              "        vertical-align: top;\n",
              "    }\n",
              "\n",
              "    .dataframe thead th {\n",
              "        text-align: right;\n",
              "    }\n",
              "</style>\n",
              "<table border=\"1\" class=\"dataframe\">\n",
              "  <thead>\n",
              "    <tr style=\"text-align: right;\">\n",
              "      <th></th>\n",
              "      <th>link</th>\n",
              "      <th>date</th>\n",
              "      <th>title</th>\n",
              "      <th>content</th>\n",
              "    </tr>\n",
              "  </thead>\n",
              "  <tbody>\n",
              "    <tr>\n",
              "      <th>0</th>\n",
              "      <td>https://www.hellenicshippingnews.com/sales-sta...</td>\n",
              "      <td>06/06/2023</td>\n",
              "      <td>Sales start and first orders received for the ...</td>\n",
              "      <td>The Alfa Laval AQUA Blue E2 freshwater generat...</td>\n",
              "    </tr>\n",
              "    <tr>\n",
              "      <th>1</th>\n",
              "      <td>https://www.hellenicshippingnews.com/inmarsat-...</td>\n",
              "      <td>06/06/2023</td>\n",
              "      <td>Inmarsat Maritime’s Decarbonisation Toolkit Pr...</td>\n",
              "      <td>Inmarsat Maritime, a Viasat business, and a wo...</td>\n",
              "    </tr>\n",
              "    <tr>\n",
              "      <th>2</th>\n",
              "      <td>https://www.hellenicshippingnews.com/russia-be...</td>\n",
              "      <td>05/06/2023</td>\n",
              "      <td>Russia behind 225% spike in shadowy oil transf...</td>\n",
              "      <td>As Russia seeks to up its game in circumventin...</td>\n",
              "    </tr>\n",
              "    <tr>\n",
              "      <th>3</th>\n",
              "      <td>https://www.hellenicshippingnews.com/g7-price-...</td>\n",
              "      <td>05/06/2023</td>\n",
              "      <td>G7 price cap threatens to squeeze tonnage supp...</td>\n",
              "      <td>Brent prices, which surged past the $85 per ba...</td>\n",
              "    </tr>\n",
              "    <tr>\n",
              "      <th>4</th>\n",
              "      <td>https://www.hellenicshippingnews.com/tankers-v...</td>\n",
              "      <td>05/06/2023</td>\n",
              "      <td>Tankers: VLCCs Face Another Quiet Week</td>\n",
              "      <td>CleanLR2MEG LR2’s have suffered from relativel...</td>\n",
              "    </tr>\n",
              "  </tbody>\n",
              "</table>\n",
              "</div>\n",
              "    <div class=\"colab-df-buttons\">\n",
              "\n",
              "  <div class=\"colab-df-container\">\n",
              "    <button class=\"colab-df-convert\" onclick=\"convertToInteractive('df-19fbf45d-6492-435d-801c-4e5dd89bba30')\"\n",
              "            title=\"Convert this dataframe to an interactive table.\"\n",
              "            style=\"display:none;\">\n",
              "\n",
              "  <svg xmlns=\"http://www.w3.org/2000/svg\" height=\"24px\" viewBox=\"0 -960 960 960\">\n",
              "    <path d=\"M120-120v-720h720v720H120Zm60-500h600v-160H180v160Zm220 220h160v-160H400v160Zm0 220h160v-160H400v160ZM180-400h160v-160H180v160Zm440 0h160v-160H620v160ZM180-180h160v-160H180v160Zm440 0h160v-160H620v160Z\"/>\n",
              "  </svg>\n",
              "    </button>\n",
              "\n",
              "  <style>\n",
              "    .colab-df-container {\n",
              "      display:flex;\n",
              "      gap: 12px;\n",
              "    }\n",
              "\n",
              "    .colab-df-convert {\n",
              "      background-color: #E8F0FE;\n",
              "      border: none;\n",
              "      border-radius: 50%;\n",
              "      cursor: pointer;\n",
              "      display: none;\n",
              "      fill: #1967D2;\n",
              "      height: 32px;\n",
              "      padding: 0 0 0 0;\n",
              "      width: 32px;\n",
              "    }\n",
              "\n",
              "    .colab-df-convert:hover {\n",
              "      background-color: #E2EBFA;\n",
              "      box-shadow: 0px 1px 2px rgba(60, 64, 67, 0.3), 0px 1px 3px 1px rgba(60, 64, 67, 0.15);\n",
              "      fill: #174EA6;\n",
              "    }\n",
              "\n",
              "    .colab-df-buttons div {\n",
              "      margin-bottom: 4px;\n",
              "    }\n",
              "\n",
              "    [theme=dark] .colab-df-convert {\n",
              "      background-color: #3B4455;\n",
              "      fill: #D2E3FC;\n",
              "    }\n",
              "\n",
              "    [theme=dark] .colab-df-convert:hover {\n",
              "      background-color: #434B5C;\n",
              "      box-shadow: 0px 1px 3px 1px rgba(0, 0, 0, 0.15);\n",
              "      filter: drop-shadow(0px 1px 2px rgba(0, 0, 0, 0.3));\n",
              "      fill: #FFFFFF;\n",
              "    }\n",
              "  </style>\n",
              "\n",
              "    <script>\n",
              "      const buttonEl =\n",
              "        document.querySelector('#df-19fbf45d-6492-435d-801c-4e5dd89bba30 button.colab-df-convert');\n",
              "      buttonEl.style.display =\n",
              "        google.colab.kernel.accessAllowed ? 'block' : 'none';\n",
              "\n",
              "      async function convertToInteractive(key) {\n",
              "        const element = document.querySelector('#df-19fbf45d-6492-435d-801c-4e5dd89bba30');\n",
              "        const dataTable =\n",
              "          await google.colab.kernel.invokeFunction('convertToInteractive',\n",
              "                                                    [key], {});\n",
              "        if (!dataTable) return;\n",
              "\n",
              "        const docLinkHtml = 'Like what you see? Visit the ' +\n",
              "          '<a target=\"_blank\" href=https://colab.research.google.com/notebooks/data_table.ipynb>data table notebook</a>'\n",
              "          + ' to learn more about interactive tables.';\n",
              "        element.innerHTML = '';\n",
              "        dataTable['output_type'] = 'display_data';\n",
              "        await google.colab.output.renderOutput(dataTable, element);\n",
              "        const docLink = document.createElement('div');\n",
              "        docLink.innerHTML = docLinkHtml;\n",
              "        element.appendChild(docLink);\n",
              "      }\n",
              "    </script>\n",
              "  </div>\n",
              "\n",
              "\n",
              "<div id=\"df-3dbf19e4-9c35-49ea-ab3e-83115aa7a90b\">\n",
              "  <button class=\"colab-df-quickchart\" onclick=\"quickchart('df-3dbf19e4-9c35-49ea-ab3e-83115aa7a90b')\"\n",
              "            title=\"Suggest charts\"\n",
              "            style=\"display:none;\">\n",
              "\n",
              "<svg xmlns=\"http://www.w3.org/2000/svg\" height=\"24px\"viewBox=\"0 0 24 24\"\n",
              "     width=\"24px\">\n",
              "    <g>\n",
              "        <path d=\"M19 3H5c-1.1 0-2 .9-2 2v14c0 1.1.9 2 2 2h14c1.1 0 2-.9 2-2V5c0-1.1-.9-2-2-2zM9 17H7v-7h2v7zm4 0h-2V7h2v10zm4 0h-2v-4h2v4z\"/>\n",
              "    </g>\n",
              "</svg>\n",
              "  </button>\n",
              "\n",
              "<style>\n",
              "  .colab-df-quickchart {\n",
              "      --bg-color: #E8F0FE;\n",
              "      --fill-color: #1967D2;\n",
              "      --hover-bg-color: #E2EBFA;\n",
              "      --hover-fill-color: #174EA6;\n",
              "      --disabled-fill-color: #AAA;\n",
              "      --disabled-bg-color: #DDD;\n",
              "  }\n",
              "\n",
              "  [theme=dark] .colab-df-quickchart {\n",
              "      --bg-color: #3B4455;\n",
              "      --fill-color: #D2E3FC;\n",
              "      --hover-bg-color: #434B5C;\n",
              "      --hover-fill-color: #FFFFFF;\n",
              "      --disabled-bg-color: #3B4455;\n",
              "      --disabled-fill-color: #666;\n",
              "  }\n",
              "\n",
              "  .colab-df-quickchart {\n",
              "    background-color: var(--bg-color);\n",
              "    border: none;\n",
              "    border-radius: 50%;\n",
              "    cursor: pointer;\n",
              "    display: none;\n",
              "    fill: var(--fill-color);\n",
              "    height: 32px;\n",
              "    padding: 0;\n",
              "    width: 32px;\n",
              "  }\n",
              "\n",
              "  .colab-df-quickchart:hover {\n",
              "    background-color: var(--hover-bg-color);\n",
              "    box-shadow: 0 1px 2px rgba(60, 64, 67, 0.3), 0 1px 3px 1px rgba(60, 64, 67, 0.15);\n",
              "    fill: var(--button-hover-fill-color);\n",
              "  }\n",
              "\n",
              "  .colab-df-quickchart-complete:disabled,\n",
              "  .colab-df-quickchart-complete:disabled:hover {\n",
              "    background-color: var(--disabled-bg-color);\n",
              "    fill: var(--disabled-fill-color);\n",
              "    box-shadow: none;\n",
              "  }\n",
              "\n",
              "  .colab-df-spinner {\n",
              "    border: 2px solid var(--fill-color);\n",
              "    border-color: transparent;\n",
              "    border-bottom-color: var(--fill-color);\n",
              "    animation:\n",
              "      spin 1s steps(1) infinite;\n",
              "  }\n",
              "\n",
              "  @keyframes spin {\n",
              "    0% {\n",
              "      border-color: transparent;\n",
              "      border-bottom-color: var(--fill-color);\n",
              "      border-left-color: var(--fill-color);\n",
              "    }\n",
              "    20% {\n",
              "      border-color: transparent;\n",
              "      border-left-color: var(--fill-color);\n",
              "      border-top-color: var(--fill-color);\n",
              "    }\n",
              "    30% {\n",
              "      border-color: transparent;\n",
              "      border-left-color: var(--fill-color);\n",
              "      border-top-color: var(--fill-color);\n",
              "      border-right-color: var(--fill-color);\n",
              "    }\n",
              "    40% {\n",
              "      border-color: transparent;\n",
              "      border-right-color: var(--fill-color);\n",
              "      border-top-color: var(--fill-color);\n",
              "    }\n",
              "    60% {\n",
              "      border-color: transparent;\n",
              "      border-right-color: var(--fill-color);\n",
              "    }\n",
              "    80% {\n",
              "      border-color: transparent;\n",
              "      border-right-color: var(--fill-color);\n",
              "      border-bottom-color: var(--fill-color);\n",
              "    }\n",
              "    90% {\n",
              "      border-color: transparent;\n",
              "      border-bottom-color: var(--fill-color);\n",
              "    }\n",
              "  }\n",
              "</style>\n",
              "\n",
              "  <script>\n",
              "    async function quickchart(key) {\n",
              "      const quickchartButtonEl =\n",
              "        document.querySelector('#' + key + ' button');\n",
              "      quickchartButtonEl.disabled = true;  // To prevent multiple clicks.\n",
              "      quickchartButtonEl.classList.add('colab-df-spinner');\n",
              "      try {\n",
              "        const charts = await google.colab.kernel.invokeFunction(\n",
              "            'suggestCharts', [key], {});\n",
              "      } catch (error) {\n",
              "        console.error('Error during call to suggestCharts:', error);\n",
              "      }\n",
              "      quickchartButtonEl.classList.remove('colab-df-spinner');\n",
              "      quickchartButtonEl.classList.add('colab-df-quickchart-complete');\n",
              "    }\n",
              "    (() => {\n",
              "      let quickchartButtonEl =\n",
              "        document.querySelector('#df-3dbf19e4-9c35-49ea-ab3e-83115aa7a90b button');\n",
              "      quickchartButtonEl.style.display =\n",
              "        google.colab.kernel.accessAllowed ? 'block' : 'none';\n",
              "    })();\n",
              "  </script>\n",
              "</div>\n",
              "\n",
              "    </div>\n",
              "  </div>\n"
            ],
            "text/plain": [
              "                                                link        date  \\\n",
              "0  https://www.hellenicshippingnews.com/sales-sta...  06/06/2023   \n",
              "1  https://www.hellenicshippingnews.com/inmarsat-...  06/06/2023   \n",
              "2  https://www.hellenicshippingnews.com/russia-be...  05/06/2023   \n",
              "3  https://www.hellenicshippingnews.com/g7-price-...  05/06/2023   \n",
              "4  https://www.hellenicshippingnews.com/tankers-v...  05/06/2023   \n",
              "\n",
              "                                               title  \\\n",
              "0  Sales start and first orders received for the ...   \n",
              "1  Inmarsat Maritime’s Decarbonisation Toolkit Pr...   \n",
              "2  Russia behind 225% spike in shadowy oil transf...   \n",
              "3  G7 price cap threatens to squeeze tonnage supp...   \n",
              "4             Tankers: VLCCs Face Another Quiet Week   \n",
              "\n",
              "                                             content  \n",
              "0  The Alfa Laval AQUA Blue E2 freshwater generat...  \n",
              "1  Inmarsat Maritime, a Viasat business, and a wo...  \n",
              "2  As Russia seeks to up its game in circumventin...  \n",
              "3  Brent prices, which surged past the $85 per ba...  \n",
              "4  CleanLR2MEG LR2’s have suffered from relativel...  "
            ]
          },
          "execution_count": 31,
          "metadata": {},
          "output_type": "execute_result"
        }
      ],
      "source": [
        "articles_copy.head()"
      ]
    },
    {
      "cell_type": "code",
      "execution_count": null,
      "metadata": {
        "id": "W9PyIB7xbwA4"
      },
      "outputs": [],
      "source": [
        "articles.to_json('drive/MyDrive/articles_file_test1.json', orient = 'split', index = 'true')\n",
        "articles_copy.to_json('drive/MyDrive/articles_file_test2.json', orient = 'split', index = 'true')"
      ]
    },
    {
      "cell_type": "code",
      "execution_count": null,
      "metadata": {
        "id": "0uvIXiOAMCKL"
      },
      "outputs": [],
      "source": [
        "# df = pd.read_json('drive/MyDrive/articles_file_test1.json', orient ='split')\n",
        "# df2 = pd.read_json('drive/MyDrive/articles_file_test3.json', orient ='split', convert_dates = ['date'], dtype = {'date': str})\n",
        "df2 = pd.read_json('drive/MyDrive/articles_file_test3.json', orient ='split')\n",
        "df3 = pd.read_json('drive/MyDrive/articles_file_test4.json', orient ='split')"
      ]
    },
    {
      "cell_type": "code",
      "execution_count": null,
      "metadata": {
        "id": "lTlFq2YAsFUi"
      },
      "outputs": [],
      "source": [
        "<span style=\"display:none\" class=\"updated\">2025-03-19</span>"
      ]
    },
    {
      "cell_type": "code",
      "execution_count": null,
      "metadata": {
        "colab": {
          "base_uri": "https://localhost:8080/"
        },
        "id": "oWpowj-gNFGv",
        "outputId": "3add8cdd-d99b-4085-a2e6-a1b99f3afb22"
      },
      "outputs": [
        {
          "data": {
            "text/plain": [
              "pandas._libs.tslibs.timestamps.Timestamp"
            ]
          },
          "execution_count": 18,
          "metadata": {},
          "output_type": "execute_result"
        }
      ],
      "source": [
        "type(df3.date.iloc[0])"
      ]
    },
    {
      "cell_type": "code",
      "execution_count": null,
      "metadata": {
        "colab": {
          "base_uri": "https://localhost:8080/"
        },
        "id": "Hl3wjhWdNKnT",
        "outputId": "b5eaa8d7-0bc5-43eb-ab31-6bcc55d2dff0"
      },
      "outputs": [
        {
          "data": {
            "text/plain": [
              "pandas._libs.tslibs.timestamps.Timestamp"
            ]
          },
          "execution_count": 19,
          "metadata": {},
          "output_type": "execute_result"
        }
      ],
      "source": [
        "type(df2.date.iloc[0])"
      ]
    },
    {
      "cell_type": "code",
      "execution_count": null,
      "metadata": {
        "id": "MKCKzF7aMFez"
      },
      "outputs": [],
      "source": [
        "import seaborn as sns"
      ]
    },
    {
      "cell_type": "code",
      "execution_count": null,
      "metadata": {
        "colab": {
          "base_uri": "https://localhost:8080/",
          "height": 304
        },
        "id": "DZRmEfa13oxL",
        "outputId": "9e7beda9-3668-4ab6-a2e4-2e5b247fd8ca"
      },
      "outputs": [
        {
          "data": {
            "text/html": [
              "<div>\n",
              "<style scoped>\n",
              "    .dataframe tbody tr th:only-of-type {\n",
              "        vertical-align: middle;\n",
              "    }\n",
              "\n",
              "    .dataframe tbody tr th {\n",
              "        vertical-align: top;\n",
              "    }\n",
              "\n",
              "    .dataframe thead th {\n",
              "        text-align: right;\n",
              "    }\n",
              "</style>\n",
              "<table border=\"1\" class=\"dataframe\">\n",
              "  <thead>\n",
              "    <tr style=\"text-align: right;\">\n",
              "      <th></th>\n",
              "      <th>date</th>\n",
              "    </tr>\n",
              "  </thead>\n",
              "  <tbody>\n",
              "    <tr>\n",
              "      <th>count</th>\n",
              "      <td>2462</td>\n",
              "    </tr>\n",
              "    <tr>\n",
              "      <th>mean</th>\n",
              "      <td>2025-01-29 01:00:14.622258176</td>\n",
              "    </tr>\n",
              "    <tr>\n",
              "      <th>min</th>\n",
              "      <td>2024-01-12 00:00:00</td>\n",
              "    </tr>\n",
              "    <tr>\n",
              "      <th>25%</th>\n",
              "      <td>2024-11-28 00:00:00</td>\n",
              "    </tr>\n",
              "    <tr>\n",
              "      <th>50%</th>\n",
              "      <td>2025-01-22 00:00:00</td>\n",
              "    </tr>\n",
              "    <tr>\n",
              "      <th>75%</th>\n",
              "      <td>2025-03-10 12:00:00</td>\n",
              "    </tr>\n",
              "    <tr>\n",
              "      <th>max</th>\n",
              "      <td>2025-12-03 00:00:00</td>\n",
              "    </tr>\n",
              "  </tbody>\n",
              "</table>\n",
              "</div><br><label><b>dtype:</b> object</label>"
            ],
            "text/plain": [
              "count                             2462\n",
              "mean     2025-01-29 01:00:14.622258176\n",
              "min                2024-01-12 00:00:00\n",
              "25%                2024-11-28 00:00:00\n",
              "50%                2025-01-22 00:00:00\n",
              "75%                2025-03-10 12:00:00\n",
              "max                2025-12-03 00:00:00\n",
              "Name: date, dtype: object"
            ]
          },
          "execution_count": 23,
          "metadata": {},
          "output_type": "execute_result"
        }
      ],
      "source": [
        "df2.date.describe()"
      ]
    },
    {
      "cell_type": "code",
      "execution_count": null,
      "metadata": {
        "colab": {
          "base_uri": "https://localhost:8080/",
          "height": 304
        },
        "id": "jYmFSUwA2duv",
        "outputId": "71642700-3768-44e3-90e0-97e8d545a2c2"
      },
      "outputs": [
        {
          "data": {
            "text/html": [
              "<div>\n",
              "<style scoped>\n",
              "    .dataframe tbody tr th:only-of-type {\n",
              "        vertical-align: middle;\n",
              "    }\n",
              "\n",
              "    .dataframe tbody tr th {\n",
              "        vertical-align: top;\n",
              "    }\n",
              "\n",
              "    .dataframe thead th {\n",
              "        text-align: right;\n",
              "    }\n",
              "</style>\n",
              "<table border=\"1\" class=\"dataframe\">\n",
              "  <thead>\n",
              "    <tr style=\"text-align: right;\">\n",
              "      <th></th>\n",
              "      <th>date</th>\n",
              "    </tr>\n",
              "  </thead>\n",
              "  <tbody>\n",
              "    <tr>\n",
              "      <th>count</th>\n",
              "      <td>2473</td>\n",
              "    </tr>\n",
              "    <tr>\n",
              "      <th>mean</th>\n",
              "      <td>2025-01-14 07:22:32.365547776</td>\n",
              "    </tr>\n",
              "    <tr>\n",
              "      <th>min</th>\n",
              "      <td>2024-11-08 00:00:00</td>\n",
              "    </tr>\n",
              "    <tr>\n",
              "      <th>25%</th>\n",
              "      <td>2024-12-09 00:00:00</td>\n",
              "    </tr>\n",
              "    <tr>\n",
              "      <th>50%</th>\n",
              "      <td>2025-01-17 00:00:00</td>\n",
              "    </tr>\n",
              "    <tr>\n",
              "      <th>75%</th>\n",
              "      <td>2025-02-19 00:00:00</td>\n",
              "    </tr>\n",
              "    <tr>\n",
              "      <th>max</th>\n",
              "      <td>2025-03-20 00:00:00</td>\n",
              "    </tr>\n",
              "  </tbody>\n",
              "</table>\n",
              "</div><br><label><b>dtype:</b> object</label>"
            ],
            "text/plain": [
              "count                             2473\n",
              "mean     2025-01-14 07:22:32.365547776\n",
              "min                2024-11-08 00:00:00\n",
              "25%                2024-12-09 00:00:00\n",
              "50%                2025-01-17 00:00:00\n",
              "75%                2025-02-19 00:00:00\n",
              "max                2025-03-20 00:00:00\n",
              "Name: date, dtype: object"
            ]
          },
          "execution_count": 22,
          "metadata": {},
          "output_type": "execute_result"
        }
      ],
      "source": [
        "df3.date.describe()"
      ]
    },
    {
      "cell_type": "code",
      "execution_count": null,
      "metadata": {
        "colab": {
          "base_uri": "https://localhost:8080/",
          "height": 466
        },
        "id": "TrqbEdXeMIrW",
        "outputId": "f176553f-acc9-48aa-b849-0d8cac3d07b4"
      },
      "outputs": [
        {
          "data": {
            "text/plain": [
              "<Axes: xlabel='date', ylabel='Count'>"
            ]
          },
          "execution_count": 25,
          "metadata": {},
          "output_type": "execute_result"
        },
        {
          "data": {
            "image/png": "[encoded data removed]",
            "text/plain": [
              "<Figure size 640x480 with 1 Axes>"
            ]
          },
          "metadata": {},
          "output_type": "display_data"
        }
      ],
      "source": [
        "sns.histplot(df2.date)"
      ]
    },
    {
      "cell_type": "code",
      "execution_count": null,
      "metadata": {
        "colab": {
          "base_uri": "https://localhost:8080/",
          "height": 466
        },
        "id": "HWbqRjB5MItu",
        "outputId": "df2b0258-0152-4397-cd5f-4691c623286b"
      },
      "outputs": [
        {
          "data": {
            "text/plain": [
              "<Axes: xlabel='date', ylabel='Count'>"
            ]
          },
          "execution_count": 24,
          "metadata": {},
          "output_type": "execute_result"
        },
        {
          "data": {
            "image/png": "[encoded data removed]",
            "text/plain": [
              "<Figure size 640x480 with 1 Axes>"
            ]
          },
          "metadata": {},
          "output_type": "display_data"
        }
      ],
      "source": [
        "sns.histplot(df3.date)"
      ]
    },
    {
      "cell_type": "code",
      "execution_count": null,
      "metadata": {
        "id": "rlS5dFbLMzt9"
      },
      "outputs": [],
      "source": [
        "df2.date = df2.date.apply(lambda x: pd.to_datetime(x, format = '%Y-%m-%d'))"
      ]
    },
    {
      "cell_type": "code",
      "execution_count": null,
      "metadata": {
        "colab": {
          "base_uri": "https://localhost:8080/",
          "height": 304
        },
        "id": "YnrTOd7sbozw",
        "outputId": "7eb6f51d-0a28-4e3c-a146-388d28c7c8a5"
      },
      "outputs": [
        {
          "data": {
            "text/html": [
              "<div>\n",
              "<style scoped>\n",
              "    .dataframe tbody tr th:only-of-type {\n",
              "        vertical-align: middle;\n",
              "    }\n",
              "\n",
              "    .dataframe tbody tr th {\n",
              "        vertical-align: top;\n",
              "    }\n",
              "\n",
              "    .dataframe thead th {\n",
              "        text-align: right;\n",
              "    }\n",
              "</style>\n",
              "<table border=\"1\" class=\"dataframe\">\n",
              "  <thead>\n",
              "    <tr style=\"text-align: right;\">\n",
              "      <th></th>\n",
              "      <th>date</th>\n",
              "    </tr>\n",
              "  </thead>\n",
              "  <tbody>\n",
              "    <tr>\n",
              "      <th>count</th>\n",
              "      <td>2462</td>\n",
              "    </tr>\n",
              "    <tr>\n",
              "      <th>mean</th>\n",
              "      <td>2025-01-29 01:00:14.622258176</td>\n",
              "    </tr>\n",
              "    <tr>\n",
              "      <th>min</th>\n",
              "      <td>2024-01-12 00:00:00</td>\n",
              "    </tr>\n",
              "    <tr>\n",
              "      <th>25%</th>\n",
              "      <td>2024-11-28 00:00:00</td>\n",
              "    </tr>\n",
              "    <tr>\n",
              "      <th>50%</th>\n",
              "      <td>2025-01-22 00:00:00</td>\n",
              "    </tr>\n",
              "    <tr>\n",
              "      <th>75%</th>\n",
              "      <td>2025-03-10 12:00:00</td>\n",
              "    </tr>\n",
              "    <tr>\n",
              "      <th>max</th>\n",
              "      <td>2025-12-03 00:00:00</td>\n",
              "    </tr>\n",
              "  </tbody>\n",
              "</table>\n",
              "</div><br><label><b>dtype:</b> object</label>"
            ],
            "text/plain": [
              "count                             2462\n",
              "mean     2025-01-29 01:00:14.622258176\n",
              "min                2024-01-12 00:00:00\n",
              "25%                2024-11-28 00:00:00\n",
              "50%                2025-01-22 00:00:00\n",
              "75%                2025-03-10 12:00:00\n",
              "max                2025-12-03 00:00:00\n",
              "Name: date, dtype: object"
            ]
          },
          "execution_count": 118,
          "metadata": {},
          "output_type": "execute_result"
        }
      ],
      "source": [
        "df2.date.describe()"
      ]
    },
    {
      "cell_type": "code",
      "execution_count": null,
      "metadata": {
        "colab": {
          "base_uri": "https://localhost:8080/",
          "height": 466
        },
        "id": "RJt7b2C_30pk",
        "outputId": "7c82ef87-b029-41d7-ae6a-9253195e55b4"
      },
      "outputs": [
        {
          "data": {
            "text/plain": [
              "<Axes: xlabel='date', ylabel='Count'>"
            ]
          },
          "execution_count": 119,
          "metadata": {},
          "output_type": "execute_result"
        },
        {
          "data": {
            "image/png": "[encoded data removed]",
            "text/plain": [
              "<Figure size 640x480 with 1 Axes>"
            ]
          },
          "metadata": {},
          "output_type": "display_data"
        }
      ],
      "source": [
        "sns.histplot(df2.date)"
      ]
    },
    {
      "cell_type": "code",
      "execution_count": null,
      "metadata": {
        "colab": {
          "base_uri": "https://localhost:8080/",
          "height": 35
        },
        "id": "VowPuW5C48v7",
        "outputId": "2a8a6b0d-d202-4d03-9bde-0de5ec6f5ec6"
      },
      "outputs": [
        {
          "data": {
            "application/vnd.google.colaboratory.intrinsic+json": {
              "type": "string"
            },
            "text/plain": [
              "'https://www.hellenicshippingnews.com/imo-sub-committee-on-ship-systems-and-equipment-sse-11/'"
            ]
          },
          "execution_count": 129,
          "metadata": {},
          "output_type": "execute_result"
        }
      ],
      "source": [
        "df2.link.iloc[300]"
      ]
    },
    {
      "cell_type": "code",
      "execution_count": null,
      "metadata": {
        "id": "FRkQExgb5qVM"
      },
      "outputs": [],
      "source": []
    },
    {
      "cell_type": "markdown",
      "metadata": {
        "id": "w3Uu9Pd86Bw1"
      },
      "source": [
        "![image.png](data:image/png;base64,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)"
      ]
    },
    {
      "cell_type": "code",
      "execution_count": null,
      "metadata": {
        "id": "xhTREvry6RDV"
      },
      "outputs": [],
      "source": []
    }
  ],
  "metadata": {
    "colab": {
      "machine_shape": "hm",
      "provenance": []
    },
    "kernelspec": {
      "display_name": "Python 3",
      "name": "python3"
    },
    "language_info": {
      "codemirror_mode": {
        "name": "ipython",
        "version": 3
      },
      "file_extension": ".py",
      "mimetype": "text/x-python",
      "name": "python",
      "nbconvert_exporter": "python",
      "pygments_lexer": "ipython3",
      "version": "3.12.4"
    }
  },
  "nbformat": 4,
  "nbformat_minor": 0
}
